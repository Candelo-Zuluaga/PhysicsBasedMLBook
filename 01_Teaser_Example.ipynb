{
 "cells": [
  {
   "cell_type": "markdown",
   "id": "19310012",
   "metadata": {},
   "source": [
    "# A Teaser Example\n",
    "Let’s start with a very reduced example that highlights some of the key capabilities of physics-based learning approaches. Let’s assume our physical model is a very simple equation: a parabola along the positive x-axis. We’ll also directly use this example to give an outlook towards probabilistic “generative AI” approaches.\n",
    "Despite being very simple, there are two solutions for every point along x, i.e. we have two modes, one above the other one below the x-axis, as shown on the left below. If we don’t take care, a conventional learning approach will give us an approximation like the red one shown in the middle, which is completely off. With an improved learning setup, e.g., by using a discretized numerical solver, we can at least accurately represent one of the modes of the solution (shown in green on the right). Interestingly, approaches that learn the full distribution at each point, flow matching as a representative of diffusion models is used below, can capture both modes!\n",
    "\n",
    "<img src=\"https://www.physicsbaseddeeplearning.org/_images/intro-teaser-side-by-side.jpg\" width=\"1015\" height=\"200\" />\n"
   ]
  },
  {
   "cell_type": "markdown",
   "id": "f17e3473",
   "metadata": {},
   "source": [
    "## Differentiable physics\n",
    "One of the key concepts of the following chapters is what we’ll call differentiable physics (DP). This means that we use domain knowledge in the form of model equations, and then integrate discretized versions of these models into the training process. As implied by the name, having differentiable formulations and operators is crucial for this process to integrate with neural networks training.\n",
    "Let’s illustrate the properties of deep learning via DP with the following example: We’d like to find an unknown function $f^{*}$ that generates solutions from a space $X$, taking inputs from $Y$, i.e. $f^{*}: X \\to Y $. In the following, we’ll often denote idealized, and unknown functions with a  superscript, in contrast to their discretized, realizable counterparts without this superscript. Let’s additionally assume we have a generic differential equation $P^{*}: X \\to Y $ (our model equation), that encodes a property of the solutions, e.g. some real world behavior we’d like to match. Later on,$P^{*}$ will often represent time evolutions, but it could also be a conservation law (e.g., conservation of mass, then $P^{*}$ would measure divergence).\n",
    "\n",
    "Using a neural network $f$ to learn the unknown and ideal function $f^*$, we could turn to classic _supervised_ training to obtain $f$ by collecting data. This classical setup requires a dataset by sampling $x$ from $X$ and adding the corresponding solutions $y$ from $Y$. We could obtain these, e.g., by classical numerical techniques. Then we train the NN $f$ with classic methods using this dataset.\n",
    "\n",
    "In contrast to this supervised approach, employing a differentiable physics approach takes advantage of the fact that we can often use a discretized version of the physical model $\\\\mathcal P$ and employ it to guide the training of $f$. I.e., we want $f$ to be aware of our _simulator_ $\\\\mathcal P$, and to _interact_ with it. This can give fundamental improvements, as we'll illustrate below with a very simple example (more complex ones will follow later on).\n",
    "\n",
    "Note that in order for the DP approach to work, $\\\\mathcal P$ has to be _differentiable_, as implied by the name. These differentials, in the form of a gradient, are what's driving the learning process and neural network integration."
   ]
  },
  {
   "cell_type": "markdown",
   "id": "0d23b79a",
   "metadata": {},
   "source": [
    "## Finding the Inverse Function of a Parabola\n",
    "To illustrate the difference of supervised and DP approaches, we consider the following simplified setting: Given the function $\\\\mathcal P: y\\\\to y^2$ for $y$ in the interval $[0,1]$, find the unknown function $f$ such that $\\\\mathcal P(f(x)) = x$ for all $x$ in $[0,1]$. E.g., for $x=0.5$, solutions would be $\\\\pm\\\\sqrt{0.5}$.\n",
    "Note: to make things a bit more interesting, we're using $y^2$ here for $\\\\mathcal P$ instead of the more common $x^2$ parabola, and the _discretization_ is simply given by representing the $x$ and $y$ via floating point numbers in the computer for this simple case.\n",
    "\n",
    "We know that possible solutions for $f$ are the positive or negative square root function (for completeness: piecewise combinations would also be possible).\\n\",\n",
    "This sounds easy, so let's try to train a neural network to approximate this inverse mapping $f$.\n",
    "Doing this in the \\\"classical\\\" supervised manner, i.e. purely based on data, is an obvious starting point. After all, this approach was shown to be a powerful tool for a variety of other applications, e.g., in computer vision."
   ]
  },
  {
   "cell_type": "code",
   "execution_count": 2,
   "id": "469cf59e",
   "metadata": {},
   "outputs": [],
   "source": [
    "import numpy as np \n",
    "import torch \n",
    "import torch.nn as nn \n",
    "import torch.optim as optim \n",
    "import matplotlib.pyplot as plt"
   ]
  },
  {
   "cell_type": "markdown",
   "id": "699c5531",
   "metadata": {},
   "source": [
    "For supervised training, we can employ our solver $\\\\mathcal P$ for the problem to pre-compute the solutions we need for training: We randomly choose between the positive and the negative square root. This resembles the  general case, where we would gather all data beforehand, e.g., using optimization techniques to compute the solutions or even experiments. This data collection typically does not favor one particular mode from multimodal solutions."
   ]
  },
  {
   "cell_type": "code",
   "execution_count": 3,
   "id": "d2ec2bf7",
   "metadata": {},
   "outputs": [
    {
     "data": {
      "text/plain": [
       "array([[0.5488135 ],\n",
       "       [0.71518934],\n",
       "       [0.60276335],\n",
       "       ...,\n",
       "       [0.7584295 ],\n",
       "       [0.02378743],\n",
       "       [0.8135751 ]], dtype=float32)"
      ]
     },
     "execution_count": 3,
     "metadata": {},
     "output_type": "execute_result"
    }
   ],
   "source": [
    "# Generating data \n",
    "# We are first picking random x from X\n",
    "# Set the seed for repeatable results \n",
    "np.random.seed(0)\n",
    "\n",
    "# Generate random x samples\n",
    "N = 10000\n",
    "X = np.random.random(N).astype(np.float32).reshape(-1,1) # -1 is indicating to Numpy to automatically calculate the appropiate number of rows\n",
    "X"
   ]
  },
  {
   "cell_type": "code",
   "execution_count": 4,
   "id": "734bd3c4",
   "metadata": {},
   "outputs": [],
   "source": [
    "# Generation of Y-Data\n",
    "np.random.seed(0)\n",
    "sign = (-np.ones(N)).astype(np.float32)**np.random.randint(2, size=N)"
   ]
  },
  {
   "cell_type": "code",
   "execution_count": 5,
   "id": "2274a0b9",
   "metadata": {},
   "outputs": [
    {
     "data": {
      "image/png": "[encoded data removed]",
      "text/plain": [
       "<Figure size 640x480 with 1 Axes>"
      ]
     },
     "metadata": {},
     "output_type": "display_data"
    }
   ],
   "source": [
    "plt.plot(np.random.randint(2, size=N)); # This is just randomly picking between -1 and 1"
   ]
  },
  {
   "cell_type": "code",
   "execution_count": 6,
   "id": "1038a9bb",
   "metadata": {},
   "outputs": [],
   "source": [
    "Y = (np.sqrt(X.flatten())*sign).reshape(-1,1).astype(np.float32)"
   ]
  },
  {
   "cell_type": "code",
   "execution_count": 7,
   "id": "0425cbf3",
   "metadata": {},
   "outputs": [],
   "source": [
    "# We convert to PyTorch tensors\n",
    "X_tensor = torch.tensor(X)\n",
    "Y_tensor = torch.tensor(Y)"
   ]
  },
  {
   "cell_type": "code",
   "execution_count": 8,
   "id": "180a8803",
   "metadata": {},
   "outputs": [
    {
     "data": {
      "text/plain": [
       "<matplotlib.collections.PathCollection at 0x17ded0e5250>"
      ]
     },
     "execution_count": 8,
     "metadata": {},
     "output_type": "execute_result"
    },
    {
     "data": {
      "image/png": "[encoded data removed]",
      "text/plain": [
       "<Figure size 640x480 with 1 Axes>"
      ]
     },
     "metadata": {},
     "output_type": "display_data"
    }
   ],
   "source": [
    "plt.scatter(X,Y) # We get the following data samples"
   ]
  },
  {
   "cell_type": "markdown",
   "id": "1e6f283c",
   "metadata": {},
   "source": [
    "Now we can define a network. We'll use a simple fully connected architecture with three hidden layers and ReLU activations."
   ]
  },
  {
   "cell_type": "markdown",
   "id": "bf8157ac",
   "metadata": {},
   "source": [
    "fc1: First fully connected (linear) layer. It takes 1 input feature and outputs hiddendim features.\n",
    "fc2: Second fully connected layer. It takes hiddendim inputs and outputs hiddendim features.\n",
    "fc3: Final layer. It reduces the output back to 1 value.\n",
    "ReLU: Activation function that introduces non-linearity.\n",
    "\n",
    "## Forward Method \n",
    "This defines how data flows through the network:\n",
    "Input x goes through fc1, then ReLU.\n",
    "Output goes through fc2, then ReLU again.\n",
    "Final output goes through fc3 without ReLU (often used for regression tasks).\n",
    "\n",
    "Input Layer (1 neuron)\n",
    "        │\n",
    "        ▼\n",
    "Hidden Layer 1 (10 neurons, ReLU)\n",
    "        │\n",
    "        ▼\n",
    "Hidden Layer 2 (10 neurons, ReLU)\n",
    "        │\n",
    "        ▼\n",
    "Output Layer (1 neuron)"
   ]
  },
  {
   "cell_type": "code",
   "execution_count": 9,
   "id": "935c2db0",
   "metadata": {},
   "outputs": [],
   "source": [
    "# Define the neural network\n",
    "class SimpleNN(nn.Module): # This defines a new class SimpleNN that inherits from nn.Module\n",
    "    def __init__(self, hiddendim=10): # Constructor Method\n",
    "        # hiddendim=10 sets the number of neurons in the hidden layers. \n",
    "        super(SimpleNN, self).__init__() # This initializes the class\n",
    "        self.fc1 = nn.Linear(1, hiddendim)\n",
    "        self.fc2 = nn.Linear(hiddendim, hiddendim)\n",
    "        self.fc3 = nn.Linear(hiddendim, 1)\n",
    "        self.relu = nn.ReLU()\n",
    "    \n",
    "    def forward(self, x):\n",
    "        x = self.relu(self.fc1(x))\n",
    "        x = self.relu(self.fc2(x))\n",
    "        x = self.fc3(x)  # Linear output\n",
    "        return x"
   ]
  },
  {
   "cell_type": "markdown",
   "id": "1a625b20",
   "metadata": {},
   "source": [
    "Next we can instantiate the model (using a hidden dimension of 128), specify a loss function (will used a simple mean squared error with PyTorch's `MSELoss()`), and the Adam optimizer. The network is trained for 50 epochs in the loop below:"
   ]
  },
  {
   "cell_type": "code",
   "execution_count": 10,
   "id": "e3977eec",
   "metadata": {},
   "outputs": [],
   "source": [
    "nn_sup = SimpleNN(hiddendim=128) # Based on the Class created before, we instantiate a nn with 128 neurons in the hidden layer\n",
    "criterion = nn.MSELoss() # This is the standard Mean-Squared error for fitting\n",
    "optimizer = optim.Adam(nn_sup.parameters(),lr=0.001)"
   ]
  },
  {
   "cell_type": "code",
   "execution_count": 12,
   "id": "14b45547",
   "metadata": {},
   "outputs": [
    {
     "name": "stdout",
     "output_type": "stream",
     "text": [
      "Epoch 10/50, Loss: 0.099308\n",
      "Epoch 20/50, Loss: 0.099317\n",
      "Epoch 30/50, Loss: 0.099303\n",
      "Epoch 40/50, Loss: 0.099291\n",
      "Epoch 50/50, Loss: 0.099305\n"
     ]
    }
   ],
   "source": [
    "# Training loop\n",
    "epochs = 50\n",
    "batch_size = 5\n",
    "\n",
    "for epoch in range(epochs):\n",
    "    permutation = torch.randperm(N) #randomly shuffling the dataset indices in each epoch\n",
    "    epoch_loss = 0.0\n",
    "    for i in range(0, N, batch_size): # We take data in batches\n",
    "        indices = permutation[i:i+batch_size]\n",
    "        batch_x, batch_y = X_tensor[indices], Y_tensor[indices]\n",
    "        \n",
    "        optimizer.zero_grad() # clear old gradients\n",
    "        outputs = nn_sup(batch_x) # we feed the neural network with batch_x and give us some outputs\n",
    "        loss = criterion(outputs,batch_y) #we compare the predictions vs the data\n",
    "        loss.backward() # we are performing here back propagation \n",
    "        # it calculates how much each weight contributed to the error \n",
    "        # gradient of the loss with respect to each weight. \n",
    "        # The gradients tell us the direction and magnitude to adjust each weight to reduce the error\n",
    "        optimizer.step()\n",
    "        \n",
    "        epoch_loss +=loss.item()\n",
    "    if(epoch%10==9): print(f'Epoch {epoch+1}/{epochs}, Loss: {epoch_loss/N:.6f}')"
   ]
  },
  {
   "cell_type": "markdown",
   "id": "20c2687f",
   "metadata": {},
   "source": [
    "As both NN and the data set are fairly small, the training converges quickly. Let's plot the solution: The following one shows the data in light gray and the supervised solution in red"
   ]
  },
  {
   "cell_type": "code",
   "execution_count": 13,
   "id": "71ce7b49",
   "metadata": {},
   "outputs": [
    {
     "data": {
      "image/png": "[encoded data removed]",
      "text/plain": [
       "<Figure size 640x480 with 1 Axes>"
      ]
     },
     "metadata": {},
     "output_type": "display_data"
    }
   ],
   "source": [
    "import matplotlib.pyplot as plt \n",
    "\n",
    "plt.plot(X,Y,'.',label='Datapoints', color=\"lightgray\")\n",
    "plt.plot(X, nn_sup(torch.tensor(X)).detach(),'.',label='T',color=\"red\")\n",
    "plt.xlabel('x')\n",
    "plt.ylabel('y')\n",
    "plt.title('Standard approach')\n",
    "plt.legend()\n",
    "plt.show()"
   ]
  },
  {
   "cell_type": "markdown",
   "id": "b82d3013",
   "metadata": {},
   "source": [
    "😱 This is obviously completely wrong! The red solution is nowhere near one of the two modes of our solution shown in gray. The training process has averaged between the data points on both sides of the x-axis and therefore fails to find satisfying solutions to the problem above.\n",
    "\n",
    "Note that the red line is often not perfectly at zero, which is where the two modes of the solution should average out in the continuous setting. This is caused by the relatively coarse sampling with only 200 points in this example."
   ]
  },
  {
   "cell_type": "markdown",
   "id": "3630d11f",
   "metadata": {},
   "source": [
    "## A differentiable physics approach\n"
   ]
  },
  {
   "cell_type": "code",
   "execution_count": null,
   "id": "e457cbf4",
   "metadata": {},
   "outputs": [],
   "source": []
  }
 ],
 "metadata": {
  "kernelspec": {
   "display_name": ".venv",
   "language": "python",
   "name": "python3"
  },
  "language_info": {
   "codemirror_mode": {
    "name": "ipython",
    "version": 3
   },
   "file_extension": ".py",
   "mimetype": "text/x-python",
   "name": "python",
   "nbconvert_exporter": "python",
   "pygments_lexer": "ipython3",
   "version": "3.12.10"
  }
 },
 "nbformat": 4,
 "nbformat_minor": 5
}
