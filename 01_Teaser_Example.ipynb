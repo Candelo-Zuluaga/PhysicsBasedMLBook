{
 "cells": [
  {
   "cell_type": "markdown",
   "id": "19310012",
   "metadata": {},
   "source": [
    "# A Teaser Example\n",
    "Let’s start with a very reduced example that highlights some of the key capabilities of physics-based learning approaches. Let’s assume our physical model is a very simple equation: a parabola along the positive x-axis. We’ll also directly use this example to give an outlook towards probabilistic “generative AI” approaches.\n",
    "Despite being very simple, there are two solutions for every point along x, i.e. we have two modes, one above the other one below the x-axis, as shown on the left below. If we don’t take care, a conventional learning approach will give us an approximation like the red one shown in the middle, which is completely off. With an improved learning setup, e.g., by using a discretized numerical solver, we can at least accurately represent one of the modes of the solution (shown in green on the right). Interestingly, approaches that learn the full distribution at each point, flow matching as a representative of diffusion models is used below, can capture both modes!\n",
    "\n",
    "<img src=\"https://www.physicsbaseddeeplearning.org/_images/intro-teaser-side-by-side.jpg\" width=\"1015\" height=\"200\" />\n"
   ]
  },
  {
   "cell_type": "markdown",
   "id": "f17e3473",
   "metadata": {},
   "source": [
    "## Differentiable physics\n",
    "One of the key concepts of the following chapters is what we’ll call differentiable physics (DP). This means that we use domain knowledge in the form of model equations, and then integrate discretized versions of these models into the training process. As implied by the name, having differentiable formulations and operators is crucial for this process to integrate with neural networks training.\n",
    "Let’s illustrate the properties of deep learning via DP with the following example: We’d like to find an unknown function $f^{*}$ that generates solutions from a space $X$, taking inputs from $Y$, i.e. $f^{*}: X \\to Y $. In the following, we’ll often denote idealized, and unknown functions with a  superscript, in contrast to their discretized, realizable counterparts without this superscript. Let’s additionally assume we have a generic differential equation $P^{*}: X \\to Y $ (our model equation), that encodes a property of the solutions, e.g. some real world behavior we’d like to match. Later on,$P^{*}$ will often represent time evolutions, but it could also be a conservation law (e.g., conservation of mass, then $P^{*}$ would measure divergence).\n",
    "\n",
    "Using a neural network $f$ to learn the unknown and ideal function $f^*$, we could turn to classic _supervised_ training to obtain $f$ by collecting data. This classical setup requires a dataset by sampling $x$ from $X$ and adding the corresponding solutions $y$ from $Y$. We could obtain these, e.g., by classical numerical techniques. Then we train the NN $f$ with classic methods using this dataset.\n",
    "\n",
    "In contrast to this supervised approach, employing a differentiable physics approach takes advantage of the fact that we can often use a discretized version of the physical model $\\\\mathcal P$ and employ it to guide the training of $f$. I.e., we want $f$ to be aware of our _simulator_ $\\\\mathcal P$, and to _interact_ with it. This can give fundamental improvements, as we'll illustrate below with a very simple example (more complex ones will follow later on).\n",
    "\n",
    "Note that in order for the DP approach to work, $\\\\mathcal P$ has to be _differentiable_, as implied by the name. These differentials, in the form of a gradient, are what's driving the learning process and neural network integration."
   ]
  },
  {
   "cell_type": "markdown",
   "id": "0d23b79a",
   "metadata": {},
   "source": [
    "## Finding the Inverse Function of a Parabola\n",
    "To illustrate the difference of supervised and DP approaches, we consider the following simplified setting: Given the function $\\\\mathcal P: y\\\\to y^2$ for $y$ in the interval $[0,1]$, find the unknown function $f$ such that $\\\\mathcal P(f(x)) = x$ for all $x$ in $[0,1]$. E.g., for $x=0.5$, solutions would be $\\\\pm\\\\sqrt{0.5}$.\n",
    "Note: to make things a bit more interesting, we're using $y^2$ here for $\\\\mathcal P$ instead of the more common $x^2$ parabola, and the _discretization_ is simply given by representing the $x$ and $y$ via floating point numbers in the computer for this simple case.\n",
    "\n",
    "We know that possible solutions for $f$ are the positive or negative square root function (for completeness: piecewise combinations would also be possible).\\n\",\n",
    "This sounds easy, so let's try to train a neural network to approximate this inverse mapping $f$.\n",
    "Doing this in the \\\"classical\\\" supervised manner, i.e. purely based on data, is an obvious starting point. After all, this approach was shown to be a powerful tool for a variety of other applications, e.g., in computer vision."
   ]
  },
  {
   "cell_type": "code",
   "execution_count": 16,
   "id": "469cf59e",
   "metadata": {},
   "outputs": [],
   "source": [
    "import numpy as np \n",
    "import torch \n",
    "import torch.nn as nn \n",
    "import torch.optim as optim \n",
    "import matplotlib.pyplot as plt"
   ]
  },
  {
   "cell_type": "markdown",
   "id": "699c5531",
   "metadata": {},
   "source": [
    "For supervised training, we can employ our solver $\\\\mathcal P$ for the problem to pre-compute the solutions we need for training: We randomly choose between the positive and the negative square root. This resembles the  general case, where we would gather all data beforehand, e.g., using optimization techniques to compute the solutions or even experiments. This data collection typically does not favor one particular mode from multimodal solutions."
   ]
  },
  {
   "cell_type": "code",
   "execution_count": 7,
   "id": "d2ec2bf7",
   "metadata": {},
   "outputs": [
    {
     "data": {
      "text/plain": [
       "array([[0.5488135 ],\n",
       "       [0.71518934],\n",
       "       [0.60276335],\n",
       "       ...,\n",
       "       [0.7584295 ],\n",
       "       [0.02378743],\n",
       "       [0.8135751 ]], dtype=float32)"
      ]
     },
     "execution_count": 7,
     "metadata": {},
     "output_type": "execute_result"
    }
   ],
   "source": [
    "# Generating data \n",
    "# We are first picking random x from X\n",
    "# Set the seed for repeatable results \n",
    "np.random.seed(0)\n",
    "\n",
    "# Generate random x samples\n",
    "N = 10000\n",
    "X = np.random.random(N).astype(np.float32).reshape(-1,1) # -1 is indicating to Numpy to automatically calculate the appropiate number of rows\n",
    "X"
   ]
  },
  {
   "cell_type": "code",
   "execution_count": 18,
   "id": "734bd3c4",
   "metadata": {},
   "outputs": [],
   "source": [
    "# Generation of Y-Data\n",
    "np.random.seed(0)\n",
    "sign = (-np.ones(N)).astype(np.float32)**np.random.randint(2, size=N)"
   ]
  },
  {
   "cell_type": "code",
   "execution_count": 19,
   "id": "2274a0b9",
   "metadata": {},
   "outputs": [
    {
     "data": {
      "image/png": "[encoded data removed]",
      "text/plain": [
       "<Figure size 640x480 with 1 Axes>"
      ]
     },
     "metadata": {},
     "output_type": "display_data"
    }
   ],
   "source": [
    "plt.plot(np.random.randint(2, size=N)); # This is just randomly picking between -1 and 1"
   ]
  },
  {
   "cell_type": "code",
   "execution_count": 22,
   "id": "1038a9bb",
   "metadata": {},
   "outputs": [],
   "source": [
    "Y = (np.sqrt(X.flatten())*sign).reshape(-1,1).astype(np.float32)"
   ]
  },
  {
   "cell_type": "code",
   "execution_count": 23,
   "id": "0425cbf3",
   "metadata": {},
   "outputs": [],
   "source": [
    "# We convert to PyTorch tensors\n",
    "X_tensor = torch.tensor(X)\n",
    "Y_tensor = torch.tensor(Y)"
   ]
  },
  {
   "cell_type": "code",
   "execution_count": 27,
   "id": "180a8803",
   "metadata": {},
   "outputs": [
    {
     "data": {
      "text/plain": [
       "<matplotlib.collections.PathCollection at 0x204c6bb5160>"
      ]
     },
     "execution_count": 27,
     "metadata": {},
     "output_type": "execute_result"
    },
    {
     "data": {
      "image/png": "[encoded data removed]",
      "text/plain": [
       "<Figure size 640x480 with 1 Axes>"
      ]
     },
     "metadata": {},
     "output_type": "display_data"
    }
   ],
   "source": [
    "plt.scatter(X,Y) # We get the following data samples"
   ]
  },
  {
   "cell_type": "code",
   "execution_count": null,
   "id": "935c2db0",
   "metadata": {},
   "outputs": [],
   "source": []
  }
 ],
 "metadata": {
  "kernelspec": {
   "display_name": ".venv",
   "language": "python",
   "name": "python3"
  },
  "language_info": {
   "codemirror_mode": {
    "name": "ipython",
    "version": 3
   },
   "file_extension": ".py",
   "mimetype": "text/x-python",
   "name": "python",
   "nbconvert_exporter": "python",
   "pygments_lexer": "ipython3",
   "version": "3.12.10"
  }
 },
 "nbformat": 4,
 "nbformat_minor": 5
}
